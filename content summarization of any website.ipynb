{
 "cells": [
  {
   "cell_type": "code",
   "execution_count": 24,
   "id": "4e2a9393-7767-488e-a8bf-27c12dca35bd",
   "metadata": {},
   "outputs": [
    {
     "name": "stdout",
     "output_type": "stream",
     "text": [
      "Imports complete.\n"
     ]
    }
   ],
   "source": [
    "# imports\n",
    "\n",
    "import os\n",
    "import requests\n",
    "from dotenv import load_dotenv\n",
    "from bs4 import BeautifulSoup\n",
    "from IPython.display import Markdown, display\n",
    "from openai import OpenAI\n",
    "print(\"Imports complete.\")\n",
    "\n",
    "# If you get an error running this cell, then please head over to the troubleshooting notebook!"
   ]
  },
  {
   "cell_type": "markdown",
   "id": "6900b2a8-6384-4316-8aaa-5e519fca4254",
   "metadata": {},
   "source": [
    "# Connecting to OpenAI (or Ollama)\n",
    "\n",
    "The next cell is where we load in the environment variables in your `.env` file and connect to OpenAI.  \n"
   ]
  },
  {
   "cell_type": "code",
   "execution_count": 43,
   "id": "7b87cadb-d513-4303-baee-a37b6f938e4d",
   "metadata": {},
   "outputs": [
    {
     "name": "stdout",
     "output_type": "stream",
     "text": [
      "API key found and looks good so far!\n"
     ]
    }
   ],
   "source": [
    "# Load environment variables in a file called .env\n",
    "\n",
    "load_dotenv(override=True)\n",
    "api_key = os.getenv('OPENAI_API_KEY')\n",
    "\n",
    "# Check the key\n",
    "\n",
    "if not api_key:\n",
    "    print(\"No API key was found - please head over to the troubleshooting notebook in this folder to identify & fix!\")\n",
    "elif not api_key.startswith(\"sk-proj-\"):\n",
    "    print(\"An API key was found, but it doesn't start sk-proj-; please check you're using the right key - see troubleshooting notebook\")\n",
    "elif api_key.strip() != api_key:\n",
    "    print(\"An API key was found, but it looks like it might have space or tab characters at the start or end - please remove them - see troubleshooting notebook\")\n",
    "else:\n",
    "    print(\"API key found and looks good so far!\")\n"
   ]
  },
  {
   "cell_type": "code",
   "execution_count": 44,
   "id": "019974d9-f3ad-4a8a-b5f9-0a3719aea2d3",
   "metadata": {},
   "outputs": [],
   "source": [
    "openai = OpenAI()\n",
    "\n",
    "# If this doesn't work, try Kernel menu >> Restart Kernel and Clear Outputs Of All Cells, then run the cells from the top of this notebook down.\n",
    "# If it STILL doesn't work (horrors!) then please see the Troubleshooting notebook in this folder for full instructions"
   ]
  },
  {
   "cell_type": "markdown",
   "id": "442fc84b-0815-4f40-99ab-d9a5da6bda91",
   "metadata": {},
   "source": [
    "# Let's make a quick call to a Frontier model to get started, as a preview!"
   ]
  },
  {
   "cell_type": "code",
   "execution_count": 45,
   "id": "a58394bf-1e45-46af-9bfd-01e24da6f49a",
   "metadata": {},
   "outputs": [
    {
     "name": "stdout",
     "output_type": "stream",
     "text": [
      "Hello! It's great to hear from you! Welcome! How can I assist you today?\n"
     ]
    }
   ],
   "source": [
    "# To give you a preview -- calling OpenAI with these messages is this easy. Any problems, head over to the Troubleshooting notebook.\n",
    "\n",
    "message = \"Hello, GPT! This is my first ever message to you! Hi!\"\n",
    "response = openai.chat.completions.create(model=\"gpt-4o-mini\", messages=[{\"role\":\"user\", \"content\":message}])\n",
    "print(response.choices[0].message.content)"
   ]
  },
  {
   "cell_type": "markdown",
   "id": "2aa190e5-cb31-456a-96cc-db109919cd78",
   "metadata": {},
   "source": [
    "## OK onwards with our first project"
   ]
  },
  {
   "cell_type": "code",
   "execution_count": 46,
   "id": "c5e793b2-6775-426a-a139-4848291d0463",
   "metadata": {},
   "outputs": [],
   "source": [
    "# A class to represent a Webpage\n",
    "# If you're not familiar with Classes, check out the \"Intermediate Python\" notebook\n",
    "\n",
    "# Some websites need you to use proper headers when fetching them:\n",
    "headers = {\n",
    " \"User-Agent\": \"Mozilla/5.0 (Windows NT 10.0; Win64; x64) AppleWebKit/537.36 (KHTML, like Gecko) Chrome/117.0.0.0 Safari/537.36\"\n",
    "}\n",
    "\n",
    "class Website:\n",
    "\n",
    "    def __init__(self, url):\n",
    "        \"\"\"\n",
    "        Create this Website object from the given url using the BeautifulSoup library\n",
    "        \"\"\"\n",
    "        self.url = url\n",
    "        response = requests.get(url, headers=headers)\n",
    "        soup = BeautifulSoup(response.content, 'html.parser')\n",
    "        self.title = soup.title.string if soup.title else \"No title found\"\n",
    "        for irrelevant in soup.body([\"script\", \"style\", \"img\", \"input\"]):\n",
    "            irrelevant.decompose()\n",
    "        self.text = soup.body.get_text(separator=\"\\n\", strip=True)"
   ]
  },
  {
   "cell_type": "code",
   "execution_count": 51,
   "id": "2ef960cf-6dc2-4cda-afb3-b38be12f4c97",
   "metadata": {},
   "outputs": [
    {
     "name": "stdout",
     "output_type": "stream",
     "text": [
      "DeepDrug | AI XPRIZE\n",
      "About XPRIZE\n",
      "Mission\n",
      "Impact\n",
      "Leadership + Staff\n",
      "Boards\n",
      "Careers\n",
      "Our Focus Areas\n",
      "Biodiversity + Conservation\n",
      "Climate + Energy\n",
      "Deep Tech\n",
      "Food + Water + Waste\n",
      "Health\n",
      "Learning + Society\n",
      "Space + Exploration\n",
      "Our Work\n",
      "Competitions\n",
      "Challenges\n",
      "Youth Programs\n",
      "Our Community\n",
      "Benefactors\n",
      "Sponsors\n",
      "Partners\n",
      "Alumni Network\n",
      "News + Content\n",
      "News\n",
      "Press\n",
      "Podcast\n",
      "Events\n",
      "Get Involved\n",
      "Back arrow\n",
      "DeepDrug\n",
      "Baton Rouge, LA, United States\n",
      "Team Website\n",
      "About Us\n",
      "The DeepDrug team is led by the PIs Dr. Supratik Mukhopadhyay, a Computer Scientist, and Dr. Michal Brylinski, a Computational Biologist.\n",
      "Dr. Supratik Mukhopadhyay is a faculty member in Computer Science at Louisiana State University.  His research interests lie in the areas of Artificial Intelligence/Machine Learning with applications to Automated Drug Discovery, Satellite Imagery Recognition,  Transportation Systems, Sustainable Buildings, Cyber-Physical Human Systems, etc. In these areas, Dr. Mukhopadhyay's research  has been supported by NSF, NASA, ONR, DARPA, ARO, DOT, NGA, DOE, NRL, state agencies, and industry.  He has more than 110 publications in reputed journals and conferences and has two awarded US Patents.\n",
      "Dr. Michal Brylinski is a faculty member in Biological Sciences at Louisiana State University. His research interests are in the areas of Computational Biology/Bioinformatics and Automated Drug Discovery. His research has been supported by NIH.\n",
      "Other Members: Dr. Chris Alvin, Adam Bess, Dr. Robert DiBiano, Tairan Liu,  Patrick McGrew, Misagh Naderi, Limeng Pu\n",
      "TECH INFORMATION\n",
      "DeepDrug team is on a mission to use the power of AI to improve world health. DeepDrug intends to create a new and time efficient AI-based platform to discover new drugs that can:\n",
      "Combat illness with no known cure\n",
      "Replace drugs for pathogens that have become drug resistant\n",
      "Respond to outbreaks of previously unknown diseases\n",
      "Improve the health of the world's population\n",
      "To this end, DeepDrug is developing  a computer aided drug design software that uses AI-based techniques to process very large datasets  thereby creating an improved method for identifying new drug compounds rapidly, dramatically shortening the early stage discovery of new drug compounds from years to months, perhaps even weeks. DeepDrug currently comprises four components: eSynth: that uses AI-based search techniques to automatically synthesize new drug compounds from their building blocks, eMolFrag: that can break down an existing drug compound into its building blocks for recombinant synthesis of new drug compounds, eToxPred: that uses machine learning to  predict toxicity and  synthetic accessibility from molecular structure of  synthesized drug compounds, and eDrugRes: that uses graph convolutional networks to determine if a bacteria species is resistant to a drug thereby promoting drug repurposing.\n",
      "Donate\n",
      "About XPRIZE\n",
      "Mission\n",
      "Impact\n",
      "Leadership + Staff\n",
      "Competitions\n",
      "Competitions\n",
      "Challenges\n",
      "Teams\n",
      "Our Community\n",
      "Benefactors\n",
      "Sponsors\n",
      "Partners\n",
      "Notable Alumni\n",
      "Our Focus Areas\n",
      "Biodiversity + Conservation\n",
      "Climate + Energy\n",
      "Deep Tech\n",
      "Food + Water + Waste\n",
      "Health\n",
      "Learning + Society\n",
      "Space + Exploration\n",
      "Get Involved\n",
      "How to Get Involved\n",
      "Donate\n",
      "Join a Team\n",
      "Sign Up for Newsletter\n",
      "News + Content\n",
      "Team Portal\n",
      "Contact Us\n",
      "Careers\n",
      "Annual Reports\n",
      "Terms & Conditions\n",
      "Privacy Policy\n",
      "Donor Privacy Policy\n",
      "© 2025 XPRIZE Foundation. All Rights Reserved.\n",
      "Build 2025.4.9.7 (Production)\n"
     ]
    }
   ],
   "source": [
    "# Let's try one out. Change the website and add print statements to follow along.\n",
    "\n",
    "# ed = Website(\"https://edwarddonner.com\")\n",
    "ed = Website(\"https://ai.xprize.org/prizes/artificial-intelligence/teams/deepdrug\")\n",
    "print(ed.title)\n",
    "print(ed.text)"
   ]
  },
  {
   "cell_type": "markdown",
   "id": "6a478a0c-2c53-48ff-869c-4d08199931e1",
   "metadata": {},
   "source": [
    "## Types of prompts\n",
    "\n",
    "You may know this already - but if not, you will get very familiar with it!\n",
    "\n",
    "Models like GPT4o have been trained to receive instructions in a particular way.\n",
    "\n",
    "They expect to receive:\n",
    "\n",
    "**A system prompt** that tells them what task they are performing and what tone they should use\n",
    "\n",
    "**A user prompt** -- the conversation starter that they should reply to"
   ]
  },
  {
   "cell_type": "code",
   "execution_count": 52,
   "id": "abdb8417-c5dc-44bc-9bee-2e059d162699",
   "metadata": {},
   "outputs": [],
   "source": [
    "# Define our system prompt - you can experiment with this later, changing the last sentence to 'Respond in markdown in Spanish.\"\n",
    "\n",
    "system_prompt = \"You are an assistant that analyzes the contents of a website \\\n",
    "and provides a short summary, ignoring text that might be navigation related. \\\n",
    "Respond in markdown.\""
   ]
  },
  {
   "cell_type": "code",
   "execution_count": 53,
   "id": "f0275b1b-7cfe-4f9d-abfa-7650d378da0c",
   "metadata": {},
   "outputs": [],
   "source": [
    "# A function that writes a User Prompt that asks for summaries of websites:\n",
    "\n",
    "def user_prompt_for(website):\n",
    "    user_prompt = f\"You are looking at a website titled {website.title}\"\n",
    "    user_prompt += \"\\nThe contents of this website is as follows; \\\n",
    "please provide a short summary of this website in markdown. \\\n",
    "If it includes news or announcements, then summarize these too.\\n\\n\"\n",
    "    user_prompt += website.text\n",
    "    return user_prompt"
   ]
  },
  {
   "cell_type": "code",
   "execution_count": 54,
   "id": "26448ec4-5c00-4204-baec-7df91d11ff2e",
   "metadata": {},
   "outputs": [
    {
     "name": "stdout",
     "output_type": "stream",
     "text": [
      "You are looking at a website titled DeepDrug | AI XPRIZE\n",
      "The contents of this website is as follows; please provide a short summary of this website in markdown. If it includes news or announcements, then summarize these too.\n",
      "\n",
      "About XPRIZE\n",
      "Mission\n",
      "Impact\n",
      "Leadership + Staff\n",
      "Boards\n",
      "Careers\n",
      "Our Focus Areas\n",
      "Biodiversity + Conservation\n",
      "Climate + Energy\n",
      "Deep Tech\n",
      "Food + Water + Waste\n",
      "Health\n",
      "Learning + Society\n",
      "Space + Exploration\n",
      "Our Work\n",
      "Competitions\n",
      "Challenges\n",
      "Youth Programs\n",
      "Our Community\n",
      "Benefactors\n",
      "Sponsors\n",
      "Partners\n",
      "Alumni Network\n",
      "News + Content\n",
      "News\n",
      "Press\n",
      "Podcast\n",
      "Events\n",
      "Get Involved\n",
      "Back arrow\n",
      "DeepDrug\n",
      "Baton Rouge, LA, United States\n",
      "Team Website\n",
      "About Us\n",
      "The DeepDrug team is led by the PIs Dr. Supratik Mukhopadhyay, a Computer Scientist, and Dr. Michal Brylinski, a Computational Biologist.\n",
      "Dr. Supratik Mukhopadhyay is a faculty member in Computer Science at Louisiana State University.  His research interests lie in the areas of Artificial Intelligence/Machine Learning with applications to Automated Drug Discovery, Satellite Imagery Recognition,  Transportation Systems, Sustainable Buildings, Cyber-Physical Human Systems, etc. In these areas, Dr. Mukhopadhyay's research  has been supported by NSF, NASA, ONR, DARPA, ARO, DOT, NGA, DOE, NRL, state agencies, and industry.  He has more than 110 publications in reputed journals and conferences and has two awarded US Patents.\n",
      "Dr. Michal Brylinski is a faculty member in Biological Sciences at Louisiana State University. His research interests are in the areas of Computational Biology/Bioinformatics and Automated Drug Discovery. His research has been supported by NIH.\n",
      "Other Members: Dr. Chris Alvin, Adam Bess, Dr. Robert DiBiano, Tairan Liu,  Patrick McGrew, Misagh Naderi, Limeng Pu\n",
      "TECH INFORMATION\n",
      "DeepDrug team is on a mission to use the power of AI to improve world health. DeepDrug intends to create a new and time efficient AI-based platform to discover new drugs that can:\n",
      "Combat illness with no known cure\n",
      "Replace drugs for pathogens that have become drug resistant\n",
      "Respond to outbreaks of previously unknown diseases\n",
      "Improve the health of the world's population\n",
      "To this end, DeepDrug is developing  a computer aided drug design software that uses AI-based techniques to process very large datasets  thereby creating an improved method for identifying new drug compounds rapidly, dramatically shortening the early stage discovery of new drug compounds from years to months, perhaps even weeks. DeepDrug currently comprises four components: eSynth: that uses AI-based search techniques to automatically synthesize new drug compounds from their building blocks, eMolFrag: that can break down an existing drug compound into its building blocks for recombinant synthesis of new drug compounds, eToxPred: that uses machine learning to  predict toxicity and  synthetic accessibility from molecular structure of  synthesized drug compounds, and eDrugRes: that uses graph convolutional networks to determine if a bacteria species is resistant to a drug thereby promoting drug repurposing.\n",
      "Donate\n",
      "About XPRIZE\n",
      "Mission\n",
      "Impact\n",
      "Leadership + Staff\n",
      "Competitions\n",
      "Competitions\n",
      "Challenges\n",
      "Teams\n",
      "Our Community\n",
      "Benefactors\n",
      "Sponsors\n",
      "Partners\n",
      "Notable Alumni\n",
      "Our Focus Areas\n",
      "Biodiversity + Conservation\n",
      "Climate + Energy\n",
      "Deep Tech\n",
      "Food + Water + Waste\n",
      "Health\n",
      "Learning + Society\n",
      "Space + Exploration\n",
      "Get Involved\n",
      "How to Get Involved\n",
      "Donate\n",
      "Join a Team\n",
      "Sign Up for Newsletter\n",
      "News + Content\n",
      "Team Portal\n",
      "Contact Us\n",
      "Careers\n",
      "Annual Reports\n",
      "Terms & Conditions\n",
      "Privacy Policy\n",
      "Donor Privacy Policy\n",
      "© 2025 XPRIZE Foundation. All Rights Reserved.\n",
      "Build 2025.4.9.7 (Production)\n"
     ]
    }
   ],
   "source": [
    "print(user_prompt_for(ed))"
   ]
  },
  {
   "cell_type": "markdown",
   "id": "ea211b5f-28e1-4a86-8e52-c0b7677cadcc",
   "metadata": {},
   "source": [
    "## Messages\n",
    "\n",
    "The API from OpenAI expects to receive messages in a particular structure.\n",
    "Many of the other APIs share this structure:\n",
    "\n",
    "```python\n",
    "[\n",
    "    {\"role\": \"system\", \"content\": \"system message goes here\"},\n",
    "    {\"role\": \"user\", \"content\": \"user message goes here\"}\n",
    "]\n",
    "```\n",
    "To give you a preview, the next 2 cells make a rather simple call - we won't stretch the mighty GPT (yet!)"
   ]
  },
  {
   "cell_type": "code",
   "execution_count": 57,
   "id": "f25dcd35-0cd0-4235-9f64-ac37ed9eaaa5",
   "metadata": {},
   "outputs": [],
   "source": [
    "messages = [\n",
    "    {\"role\": \"system\", \"content\": \"You are a snarky assistant\"},\n",
    "    {\"role\": \"user\", \"content\": \"What is 2 + 2?\"}\n",
    "]"
   ]
  },
  {
   "cell_type": "code",
   "execution_count": 58,
   "id": "21ed95c5-7001-47de-a36d-1d6673b403ce",
   "metadata": {},
   "outputs": [
    {
     "name": "stdout",
     "output_type": "stream",
     "text": [
      "Oh, you're really hitting me with the tough ones, huh? The answer is 4. Gold star for you!\n"
     ]
    }
   ],
   "source": [
    "# To give you a preview -- calling OpenAI with system and user messages:\n",
    "\n",
    "response = openai.chat.completions.create(model=\"gpt-4o-mini\", messages=messages)\n",
    "print(response.choices[0].message.content)"
   ]
  },
  {
   "cell_type": "markdown",
   "id": "d06e8d78-ce4c-4b05-aa8e-17050c82bb47",
   "metadata": {},
   "source": [
    "## And now let's build useful messages for GPT-4o-mini, using a function"
   ]
  },
  {
   "cell_type": "code",
   "execution_count": 59,
   "id": "0134dfa4-8299-48b5-b444-f2a8c3403c88",
   "metadata": {},
   "outputs": [],
   "source": [
    "# See how this function creates exactly the format above\n",
    "\n",
    "def messages_for(website):\n",
    "    return [\n",
    "        {\"role\": \"system\", \"content\": system_prompt},\n",
    "        {\"role\": \"user\", \"content\": user_prompt_for(website)}\n",
    "    ]"
   ]
  },
  {
   "cell_type": "code",
   "execution_count": 60,
   "id": "36478464-39ee-485c-9f3f-6a4e458dbc9c",
   "metadata": {},
   "outputs": [
    {
     "data": {
      "text/plain": [
       "[{'role': 'system',\n",
       "  'content': 'You are an assistant that analyzes the contents of a website and provides a short summary, ignoring text that might be navigation related. Respond in markdown.'},\n",
       " {'role': 'user',\n",
       "  'content': \"You are looking at a website titled DeepDrug | AI XPRIZE\\nThe contents of this website is as follows; please provide a short summary of this website in markdown. If it includes news or announcements, then summarize these too.\\n\\nAbout XPRIZE\\nMission\\nImpact\\nLeadership + Staff\\nBoards\\nCareers\\nOur Focus Areas\\nBiodiversity + Conservation\\nClimate + Energy\\nDeep Tech\\nFood + Water + Waste\\nHealth\\nLearning + Society\\nSpace + Exploration\\nOur Work\\nCompetitions\\nChallenges\\nYouth Programs\\nOur Community\\nBenefactors\\nSponsors\\nPartners\\nAlumni Network\\nNews + Content\\nNews\\nPress\\nPodcast\\nEvents\\nGet Involved\\nBack arrow\\nDeepDrug\\nBaton Rouge, LA, United States\\nTeam Website\\nAbout Us\\nThe DeepDrug team is led by the PIs Dr. Supratik Mukhopadhyay, a Computer Scientist, and Dr. Michal Brylinski, a Computational Biologist.\\nDr. Supratik Mukhopadhyay is a faculty member in Computer Science at Louisiana State University. \\xa0His research interests lie in the areas of Artificial Intelligence/Machine Learning with applications to Automated Drug Discovery, Satellite Imagery Recognition,\\xa0 Transportation Systems, Sustainable Buildings, Cyber-Physical Human Systems, etc. In these areas, Dr. Mukhopadhyay's research \\xa0has been\\xa0supported by NSF, NASA, ONR, DARPA, ARO, DOT, NGA, DOE, NRL, state agencies, and industry.\\xa0 He has more than 110 publications in reputed journals and conferences and has two awarded US Patents.\\nDr. Michal Brylinski is a faculty member in Biological Sciences at Louisiana State University. His research interests are in the areas of Computational Biology/Bioinformatics and Automated Drug Discovery. His research has been supported by NIH.\\nOther Members: Dr. Chris Alvin, Adam Bess, Dr. Robert DiBiano, Tairan Liu, \\xa0Patrick McGrew, Misagh Naderi, Limeng Pu\\nTECH INFORMATION\\nDeepDrug team is on a mission to use the power of AI to improve world health. DeepDrug intends to create a new and time efficient AI-based platform to discover new drugs that can:\\nCombat illness with no known cure\\nReplace drugs for pathogens that have become drug resistant\\nRespond to outbreaks of previously unknown diseases\\nImprove the health of the world's population\\nTo this end, DeepDrug\\xa0is developing \\xa0a computer aided drug design software that uses AI-based techniques to process very large datasets \\xa0thereby creating an improved method for identifying new drug compounds rapidly, dramatically shortening the early stage discovery of new drug compounds\\xa0from years to months, perhaps even weeks. DeepDrug\\xa0currently comprises four components: eSynth: that\\xa0uses AI-based search techniques to automatically synthesize new drug compounds from\\xa0their building blocks, eMolFrag: that can break down an existing drug compound into its building blocks for recombinant synthesis of new drug compounds, eToxPred: that\\xa0uses machine learning to \\xa0predict toxicity and\\xa0\\xa0synthetic accessibility\\xa0from molecular structure of \\xa0synthesized drug compounds, and eDrugRes: that uses graph convolutional networks to determine if a bacteria species is resistant to a drug thereby promoting drug repurposing.\\nDonate\\nAbout XPRIZE\\nMission\\nImpact\\nLeadership + Staff\\nCompetitions\\nCompetitions\\nChallenges\\nTeams\\nOur Community\\nBenefactors\\nSponsors\\nPartners\\nNotable Alumni\\nOur Focus Areas\\nBiodiversity + Conservation\\nClimate + Energy\\nDeep Tech\\nFood + Water + Waste\\nHealth\\nLearning + Society\\nSpace + Exploration\\nGet Involved\\nHow to Get Involved\\nDonate\\nJoin a Team\\nSign Up for Newsletter\\nNews + Content\\nTeam Portal\\nContact Us\\nCareers\\nAnnual Reports\\nTerms & Conditions\\nPrivacy Policy\\nDonor Privacy Policy\\n© 2025 XPRIZE Foundation. All Rights Reserved.\\nBuild 2025.4.9.7 (Production)\"}]"
      ]
     },
     "execution_count": 60,
     "metadata": {},
     "output_type": "execute_result"
    }
   ],
   "source": [
    "# Try this out, and then try for a few more websites\n",
    "\n",
    "messages_for(ed)"
   ]
  },
  {
   "cell_type": "markdown",
   "id": "16f49d46-bf55-4c3e-928f-68fc0bf715b0",
   "metadata": {},
   "source": [
    "## Time to bring it together - the API for OpenAI is very simple!"
   ]
  },
  {
   "cell_type": "code",
   "execution_count": 61,
   "id": "905b9919-aba7-45b5-ae65-81b3d1d78e34",
   "metadata": {},
   "outputs": [],
   "source": [
    "# And now: call the OpenAI API. You will get very familiar with this!\n",
    "\n",
    "def summarize(url):\n",
    "    website = Website(url)\n",
    "    response = openai.chat.completions.create(\n",
    "        model = \"gpt-4o-mini\",\n",
    "        messages = messages_for(website)\n",
    "    )\n",
    "    return response.choices[0].message.content"
   ]
  },
  {
   "cell_type": "code",
   "execution_count": 62,
   "id": "05e38d41-dfa4-4b20-9c96-c46ea75d9fb5",
   "metadata": {},
   "outputs": [
    {
     "data": {
      "text/plain": [
       "\"# DeepDrug | AI XPRIZE Summary\\n\\nThe DeepDrug initiative, part of the XPRIZE foundation, is focused on leveraging artificial intelligence (AI) to enhance global health through improved drug discovery. The team, led by Dr. Supratik Mukhopadhyay and Dr. Michal Brylinski from Louisiana State University, aims to create a rapid AI-based platform that can:\\n\\n- Innovate treatments for illnesses with no known cures.\\n- Replace outdated drugs for pathogens that are now resistant.\\n- Quickly respond to new disease outbreaks.\\n- Enhance overall global health.\\n\\n## Key Features of DeepDrug\\n\\nDeepDrug is developing a comprehensive computer-aided drug design software consisting of four main components:\\n\\n1. **eSynth**: Uses AI to automatically synthesize new drug compounds.\\n2. **eMolFrag**: Breaks down existing drug compounds into building blocks for new drug synthesis.\\n3. **eToxPred**: Employs machine learning to predict drug toxicity and synthetic access based on molecular structures.\\n4. **eDrugRes**: Utilizes graph convolutional networks to assess bacterial resistance, facilitating drug repurposing.\\n\\nThe project seeks to significantly reduce the drug discovery timeline from years to mere months, or even weeks, by efficiently processing vast datasets to identify new compounds.\\n\\n## Team Composition\\n\\nThe DeepDrug team includes various professionals in the fields of computer science, biological sciences, and automated drug discovery, enhancing its multidisciplinary approach to tackling health challenges.\\n\\n---\\n\\nThe website emphasizes DeepDrug's mission to utilize advanced technologies for significant health improvements and highlights the research backgrounds of its team members.\""
      ]
     },
     "execution_count": 62,
     "metadata": {},
     "output_type": "execute_result"
    }
   ],
   "source": [
    "# summarize(\"https://edwarddonner.com\")\n",
    "summarize(\"https://ai.xprize.org/prizes/artificial-intelligence/teams/deepdrug\")\n"
   ]
  },
  {
   "cell_type": "code",
   "execution_count": 63,
   "id": "3d926d59-450e-4609-92ba-2d6f244f1342",
   "metadata": {},
   "outputs": [],
   "source": [
    "# A function to display this nicely in the Jupyter output, using markdown\n",
    "\n",
    "def display_summary(url):\n",
    "    summary = summarize(url)\n",
    "    display(Markdown(summary))"
   ]
  },
  {
   "cell_type": "code",
   "execution_count": 64,
   "id": "3018853a-445f-41ff-9560-d925d1774b2f",
   "metadata": {},
   "outputs": [
    {
     "data": {
      "text/markdown": [
       "# Summary of DeepDrug | AI XPRIZE\n",
       "\n",
       "The **DeepDrug** initiative is focused on utilizing artificial intelligence to enhance drug discovery processes, aiming to improve global health outcomes. Led by Dr. Supratik Mukhopadhyay and Dr. Michal Brylinski from Louisiana State University, the team seeks to develop an AI-based platform that significantly shortens the timeline for discovering new drug compounds.\n",
       "\n",
       "## Key Objectives:\n",
       "- **Address Illness**: Focus on diseases with no known cures and combat drug-resistant pathogens.\n",
       "- **Rapid Drug Discovery**: Employ advanced computational techniques to reduce drug discovery time from years to months or even weeks.\n",
       "\n",
       "## Core Components of DeepDrug:\n",
       "1. **eSynth**: Synthesizes new drug compounds using AI-driven techniques.\n",
       "2. **eMolFrag**: Breaks down existing compounds for the synthesis of new drugs.\n",
       "3. **eToxPred**: Predicts toxicity and synthetic accessibility of synthesized compounds through machine learning.\n",
       "4. **eDrugRes**: Identifies bacterial resistance to drugs by employing graph convolutional networks, facilitating drug repurposing.\n",
       "\n",
       "The overarching mission of DeepDrug is to leverage AI capabilities for creating innovative solutions in drug discovery, ultimately fostering better health for the global population."
      ],
      "text/plain": [
       "<IPython.core.display.Markdown object>"
      ]
     },
     "metadata": {},
     "output_type": "display_data"
    }
   ],
   "source": [
    "display_summary(\"https://ai.xprize.org/prizes/artificial-intelligence/teams/deepdrug\")"
   ]
  },
  {
   "cell_type": "markdown",
   "id": "b3bcf6f4-adce-45e9-97ad-d9a5d7a3a624",
   "metadata": {},
   "source": [
    "# Let's try more websites\n",
    "\n",
    "Note that this will only work on websites that can be scraped using this simplistic approach.\n",
    "\n",
    "Websites that are rendered with Javascript, like React apps, won't show up. See the community-contributions folder for a Selenium implementation that gets around this. You'll need to read up on installing Selenium (ask ChatGPT!)\n",
    "\n",
    "Also Websites protected with CloudFront (and similar) may give 403 errors - many thanks Andy J for pointing this out.\n",
    "\n",
    "But many websites will work just fine!"
   ]
  },
  {
   "cell_type": "code",
   "execution_count": 19,
   "id": "45d83403-a24c-44b5-84ac-961449b4008f",
   "metadata": {},
   "outputs": [
    {
     "data": {
      "text/markdown": [
       "# Summary of CNN Website\n",
       "\n",
       "The CNN website provides a comprehensive platform for breaking news, updates, and multimedia content across various categories including US news, world news, politics, business, health, entertainment, and weather.\n",
       "\n",
       "## Key News Highlights:\n",
       "\n",
       "- **Ukraine-Russia War**: Ongoing coverage and developments related to the conflict.\n",
       "- **Israel-Hamas War**: Report on escalating tensions and impacts on geopolitics.\n",
       "- **Memorial Day Sales**: Coverage of major sales events, highlighting significant deals from retailers.\n",
       "\n",
       "## Notable Articles:\n",
       "\n",
       "1. **Trump Administration's Education Policy**: The administration is accused of barring Harvard from enrolling international students, which has sparked a federal judge's intervention to block the policy affecting students' legal status.\n",
       "   \n",
       "2. **Tragic Incidents**: Reports include a plane crash in San Diego that resulted in fatalities following a collision with power lines and details concerning a hate crime investigation linked to the murders of Israeli Embassy staffers.\n",
       "\n",
       "3. **Political Analysis**: Analysis of ongoing issues within the GOP regarding legislative strategies and the implications of major bills.\n",
       "\n",
       "4. **Cultural Features**: Articles covering entertainment news, such as Jeremy Renner’s experiences post-recovery from a near-death situation and insights into celebrity legal battles.\n",
       "\n",
       "5. **Scientific Findings**: Recent studies shedding light on climate news, discoveries in paleontology, and human health advisory.\n",
       "\n",
       "The site is structured for easy navigation of various topics and also features podcasts and live TV options for further engagement with news content."
      ],
      "text/plain": [
       "<IPython.core.display.Markdown object>"
      ]
     },
     "metadata": {},
     "output_type": "display_data"
    }
   ],
   "source": [
    "display_summary(\"https://cnn.com\")"
   ]
  },
  {
   "cell_type": "code",
   "execution_count": 65,
   "id": "75e9fd40-b354-4341-991e-863ef2e59db7",
   "metadata": {},
   "outputs": [
    {
     "data": {
      "text/markdown": [
       "# DeepDrug | AI XPRIZE Summary\n",
       "\n",
       "DeepDrug is an initiative under the XPRIZE umbrella, focused on harnessing artificial intelligence to enhance global health through innovative drug discovery methods. Led by Dr. Supratik Mukhopadhyay and Dr. Michal Brylinski, the team aims to develop an AI-driven platform that accelerates the identification of new drugs, significantly reducing the time required for early-stage discovery from years to mere weeks or months.\n",
       "\n",
       "## Key Objectives of DeepDrug:\n",
       "- Discover new drugs for illnesses with no current cures.\n",
       "- Replace ineffective treatments for drug-resistant pathogens.\n",
       "- Rapidly respond to outbreaks of unknown diseases.\n",
       "- Enhance overall health across global populations.\n",
       "\n",
       "## Components of DeepDrug:\n",
       "1. **eSynth**: AI-based synthesis of new drug compounds from basic building blocks.\n",
       "2. **eMolFrag**: Decomposes existing drug compounds for recombinant synthesis.\n",
       "3. **eToxPred**: Predicts toxicity and synthetic accessibility using machine learning.\n",
       "4. **eDrugRes**: Utilizes graph convolutional networks to assess bacterial resistance to drugs, promoting drug repurposing.\n",
       "\n",
       "The DeepDrug team is committed to leveraging AI technologies for transformative changes in drug discovery, potentially impacting health outcomes worldwide."
      ],
      "text/plain": [
       "<IPython.core.display.Markdown object>"
      ]
     },
     "metadata": {},
     "output_type": "display_data"
    }
   ],
   "source": [
    "display_summary(\"https://ai.xprize.org/prizes/artificial-intelligence/teams/deepdrug\")"
   ]
  },
  {
   "cell_type": "code",
   "execution_count": 66,
   "id": "546c1734",
   "metadata": {},
   "outputs": [
    {
     "name": "stdout",
     "output_type": "stream",
     "text": [
      "Reminder: Quarterly Planning Meeting Next Friday at 10 AM\n"
     ]
    }
   ],
   "source": [
    "# Step 1: Create your prompts\n",
    "\n",
    "system_prompt = \"You are an assistant that writes concise, relevant subject lines for emails.\"\n",
    "user_prompt = \"\"\"\n",
    "Please suggest a short, professional subject line for the following email:\n",
    "\n",
    "Dear team,\n",
    "\n",
    "I wanted to remind everyone that our quarterly planning meeting is scheduled for next Friday at 10am in the main conference room. Please come prepared with your department updates and any discussion points.\n",
    "\n",
    "Best,\n",
    "Alex\n",
    "\"\"\"\n",
    "\n",
    "# Step 2: Make the messages list\n",
    "\n",
    "messages = [\n",
    "    {\"role\": \"system\", \"content\": system_prompt},\n",
    "    {\"role\": \"user\", \"content\": user_prompt}\n",
    "]\n",
    "\n",
    "# Step 3: Call OpenAI\n",
    "\n",
    "response = openai.chat.completions.create(\n",
    "    model=\"gpt-4o-mini\",\n",
    "    messages=messages\n",
    ")\n",
    "\n",
    "# Step 4: print the result\n",
    "\n",
    "print(response.choices[0].message.content)"
   ]
  },
  {
   "cell_type": "code",
   "execution_count": null,
   "id": "f4484fcf-8b39-4c3f-9674-37970ed71988",
   "metadata": {},
   "outputs": [],
   "source": []
  }
 ],
 "metadata": {
  "kernelspec": {
   "display_name": "llms",
   "language": "python",
   "name": "python3"
  },
  "language_info": {
   "codemirror_mode": {
    "name": "ipython",
    "version": 3
   },
   "file_extension": ".py",
   "mimetype": "text/x-python",
   "name": "python",
   "nbconvert_exporter": "python",
   "pygments_lexer": "ipython3",
   "version": "3.11.11"
  }
 },
 "nbformat": 4,
 "nbformat_minor": 5
}
